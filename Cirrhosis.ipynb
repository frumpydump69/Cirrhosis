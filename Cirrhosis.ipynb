{
  "metadata": {
    "kernelspec": {
      "name": "SQLite",
      "display_name": "SQLite",
      "language": "sql"
    },
    "language_info": {
      "codemirror_mode": "sql",
      "file_extension": "",
      "mimetype": "",
      "name": "sql",
      "version": "3.32.3"
    }
  },
  "nbformat_minor": 4,
  "nbformat": 4,
  "cells": [
    {
      "cell_type": "markdown",
      "source": "# Liver Cirrhosis\n\n## Introduction\nLiver Cirrhosis can be caused from a number of diseases and contrary to popular belief, the liver can actually repair itself in some circumstances. I won't be looking into these mechanisms, but we will look at the effect of age, gender, stage of disease, and biomarkers play.",
      "metadata": {}
    },
    {
      "cell_type": "markdown",
      "source": "## Summary of findings for first two graphs",
      "metadata": {
        "jp-MarkdownHeadingCollapsed": true
      }
    },
    {
      "cell_type": "markdown",
      "source": "## Bilirubin, disease stage, and age\n\n# Graph 4 - Using the registration day count on the x axis and the\nBillirubin count on the y axis, we can see a declining linear relationship\nfor each stage. Stage 1 has the least slope, followed by stage 3, stage 2,\nand then stage 4. One theory is that as the treatment went on, Billirubin\ncount dropped as well.",
      "metadata": {}
    },
    {
      "cell_type": "markdown",
      "source": "### Graph 5 - Drug Treatment's effect on Bilirubin count over time\nResults in stage 1 do not generate a real line of regression which means\nthere may be no effect by the drugs on Bilirubin at that stage. More testing\nshould be done. Both stages 2 and 3 could signify that the drug plays no great\nrole in Bilirubin decrease since the placebo has a stronger negative correlation\nbetween Billirubin and N Days.The regression of Stage 4 is slightly more negative\nfor the drug than Placebo.\n",
      "metadata": {}
    },
    {
      "cell_type": "markdown",
      "source": "## Analysis\n\nFrom the charts provided, there are no clear correlations with any biomarker attributes that could be linked with a specific stage. There are interesting correlations with gender and age. There are greater patients that are women and higher counts in age range 40-59. Further studies should be done to confirm these results.",
      "metadata": {
        "jp-MarkdownHeadingCollapsed": true
      }
    },
    {
      "cell_type": "code",
      "source": "",
      "metadata": {
        "trusted": true
      },
      "outputs": [],
      "execution_count": null
    },
    {
      "cell_type": "code",
      "source": "",
      "metadata": {
        "trusted": true
      },
      "outputs": [],
      "execution_count": null
    },
    {
      "cell_type": "markdown",
      "source": "## Data Source\nThe data that I used is from the [Cirrhosis prediction dataset](https://www.kaggle.com/datasets/fedesoriano/cirrhosis-prediction-dataset). This is collected from a Mayo Clinic trial from 1974-1984. There are a total of 424 patient records. Some have been excluded from the results that do not feature the complete data being examined such as the corresponding stage of a patient. The attributes are listed below.\n\n1) ID: unique identifier\n2) N_Days: number of days between registration and the earlier of death, transplantation, or study analysis time in July 1986\n3) Status: status of the patient C (censored), CL (censored due to liver tx), or D (death)\n4) Drug: type of drug D-penicillamine or placebo\n5) Age: age in [days]\n6) Sex: M (male) or F (female)\n7) Ascites: presence of ascites N (No) or Y (Yes)\n8) Hepatomegaly: presence of hepatomegaly N (No) or Y (Yes)\n9) Spiders: presence of spiders N (No) or Y (Yes)\n10) Edema: presence of edema N (no edema and no diuretic therapy for edema), S (edema present without diuretics, or edema resolved by diuretics), or Y (edema despite diuretic therapy)\n11) Bilirubin: serum bilirubin in [mg/dl]\n12) Cholesterol: serum cholesterol in [mg/dl]\n13) Albumin: albumin in [gm/dl]\n14) Copper: urine copper in [ug/day]\n15) Alk_Phos: alkaline phosphatase in [U/liter]\n16) SGOT: SGOT in [U/ml]\n17) Triglycerides: triglicerides in [mg/dl]\n18) Platelets: platelets per cubic [ml/1000]\n19) Prothrombin: prothrombin time in seconds [s]\n20) Stage: histologic stage of disease (1, 2, 3, or 4)",
      "metadata": {
        "jp-MarkdownHeadingCollapsed": true
      }
    },
    {
      "cell_type": "markdown",
      "source": "### Graphs 1\nA faceted bar charrt allows us to see counts of different age ranges\nbased on the stages of cirrhosis. The findings show that the majority\nof patients fall between two age ranges: 40-49 and 50-59. More data \nshould be found to conclude if females are more susceptbile to cirrhosis \nbecause this data has more female than male patients.\n",
      "metadata": {}
    },
    {
      "cell_type": "code",
      "source": "## Link for Tableau dashboard",
      "metadata": {
        "trusted": true
      },
      "outputs": [
        {
          "ename": "Error",
          "evalue": "Please load a database to perform operations",
          "traceback": [
            "Error: Please load a database to perform operations"
          ],
          "output_type": "error"
        }
      ],
      "execution_count": 4
    },
    {
      "cell_type": "code",
      "source": "%%html\n<div class='tableauPlaceholder' id='viz1707930515493' style='position: relative'><noscript><a href='#'><img alt='Graph 4 ' src='https:&#47;&#47;public.tableau.com&#47;static&#47;images&#47;ci&#47;cirrhosis&#47;Sheet2&#47;1_rss.png' style='border: none' /></a></noscript><object class='tableauViz'  style='display:none;'><param name='host_url' value='https%3A%2F%2Fpublic.tableau.com%2F' /> <param name='embed_code_version' value='3' /> <param name='site_root' value='' /><param name='name' value='cirrhosis&#47;Sheet2' /><param name='tabs' value='no' /><param name='toolbar' value='yes' /><param name='static_image' value='https:&#47;&#47;public.tableau.com&#47;static&#47;images&#47;ci&#47;cirrhosis&#47;Sheet2&#47;1.png' /> <param name='animate_transition' value='yes' /><param name='display_static_image' value='yes' /><param name='display_spinner' value='yes' /><param name='display_overlay' value='yes' /><param name='display_count' value='yes' /><param name='language' value='en-US' /></object></div>                <script type='text/javascript'>                    var divElement = document.getElementById('viz1707930515493');                    var vizElement = divElement.getElementsByTagName('object')[0];                    vizElement.style.width='100%';vizElement.style.height=(divElement.offsetWidth*0.75)+'px';                    var scriptElement = document.createElement('script');                    scriptElement.src = 'https://public.tableau.com/javascripts/api/viz_v1.js';                    vizElement.parentNode.insertBefore(scriptElement, vizElement);                </script>",
      "metadata": {
        "trusted": true
      },
      "outputs": [
        {
          "ename": "Error",
          "evalue": "Load a database to run this command.",
          "traceback": [
            "Error: Load a database to run this command."
          ],
          "output_type": "error"
        }
      ],
      "execution_count": 6
    },
    {
      "cell_type": "markdown",
      "source": "### Graph 2\nHigh levels of cholesterol can contribute to liver disease so I\nwanted to see if there is any correlation with this and cirrhosis.\nThe data shows there are greater counts of patients around the 250 mg/dl \nmark than any other. There is no evidence that patients have higher cholesterol\nlevels the further than they are in the stage diagnosis.",
      "metadata": {
        "jp-MarkdownHeadingCollapsed": true
      }
    }
  ]
}